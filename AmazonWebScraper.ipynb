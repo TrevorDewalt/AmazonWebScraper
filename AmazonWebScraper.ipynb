{
  "nbformat": 4,
  "nbformat_minor": 0,
  "metadata": {
    "colab": {
      "name": "AmazonWebScraper.ipynb",
      "provenance": [],
      "collapsed_sections": []
    },
    "kernelspec": {
      "name": "python3",
      "display_name": "Python 3"
    },
    "language_info": {
      "name": "python"
    }
  },
  "cells": [
    {
      "cell_type": "code",
      "execution_count": 6,
      "metadata": {
        "id": "2yJWIyye7yC8"
      },
      "outputs": [],
      "source": [
        "# Import Libraries\n",
        "import pandas as pd\n",
        "from bs4 import BeautifulSoup\n",
        "import requests\n",
        "import time\n",
        "import datetime\n",
        "import smtplib, ssl\n",
        "import csv"
      ]
    },
    {
      "cell_type": "code",
      "source": [
        "# Connect to website & pull in product data:\n",
        "url = \"https://www.amazon.com/Beats-Fit-Pro-Cancelling-Built/dp/B09JL41N9C/ref=sr_1_9?crid=HXGFWM1P1X1G&keywords=beats+wireless+headphones&qid=1647021454&s=electronics&sprefix=beats%2Celectronics%2C76&sr=1-9\"\n",
        "\n",
        "headers = {\"User-Agent\": \"Mozilla/5.0 (Windows NT 10.0; Win64; x64) AppleWebKit/537.36 (KHTML, like Gecko) Chrome/99.0.4844.51 Safari/537.36\", \n",
        "           \"Accept-Encoding\":\"gzip, deflate\", \"Accept\":\"text/html,application/xhtml+xml,application/xml;q=0.9,*/*;q=0.8\", \n",
        "           \"DNT\":\"1\",\"Connection\":\"close\", \"Upgrade-Insecure-Requests\":\"1\"}\n",
        "\n",
        "page = requests.get(url, headers=headers)\n",
        "\n",
        "soup1 = BeautifulSoup(page.content, \"html.parser\")\n",
        "\n",
        "soup2 = BeautifulSoup(soup1.prettify(), \"html.parser\")\n",
        "\n",
        "title_full = soup2.find(id='productTitle').get_text()\n",
        "\n",
        "title = title_full[6:60]\n",
        "\n",
        "price_black = soup2.find(id='color_name_0_price').get_text()\n",
        "\n",
        "price_white = soup2.find(id='color_name_1_price').get_text()\n",
        "\n",
        "price_sage_gray = soup2.find(id='color_name_2_price').get_text()\n",
        "\n",
        "price_stone_purple = soup2.find(id='color_name_3_price').get_text()\n",
        "\n",
        "print(title)\n",
        "print(\"\\nPrice Beats Black:\", price_black.strip())\n",
        "print(\"Price Beats White\", price_white.strip())\n",
        "print(\"Price Beats Sage Gray\", price_sage_gray.strip())\n",
        "print(\"Price Beats Stone Purple\", price_stone_purple.strip())\n",
        "\n",
        "\n"
      ],
      "metadata": {
        "colab": {
          "base_uri": "https://localhost:8080/"
        },
        "id": "15D9LzHK7ymr",
        "outputId": "82d16569-4662-4f73-f2d2-a3957e74ee9e"
      },
      "execution_count": 7,
      "outputs": [
        {
          "output_type": "stream",
          "name": "stdout",
          "text": [
            "Beats Fit Pro – True Wireless Noise Cancelling Earbuds\n",
            "\n",
            "Price Beats Black: $199.95\n",
            "Price Beats White $199.95\n",
            "Price Beats Sage Gray $199.95\n",
            "Price Beats Stone Purple $199.95\n"
          ]
        }
      ]
    },
    {
      "cell_type": "code",
      "source": [
        "# Create a timestamp to reference when data was collected\n",
        "today = datetime.date.today()\n",
        "print(today)\n",
        "\n",
        "import csv\n",
        "\n",
        "# Create CSV to store scraped data\n",
        "header = ['Title', 'Price Beats Black', 'Price Beats White', 'Price Sage Gray', 'Price Stone Purple', 'Date Scraped']\n",
        "data = [title, price_black.strip()[1:], price_white.strip()[1:], \n",
        "        price_sage_gray.strip()[1:], price_stone_purple.strip()[1:], today]\n",
        "\n",
        "with open(r'C:\\Users\\trewq\\OneDrive\\Documents\\AmazonWebScraperDataset.csv', 'w', newline='', encoding='UTF8') as f:\n",
        "  writer = csv.writer(f)\n",
        "  writer.writerow(header)\n",
        "  writer.writerow(data)\n"
      ],
      "metadata": {
        "colab": {
          "base_uri": "https://localhost:8080/"
        },
        "id": "YIqelvFJ7ysd",
        "outputId": "6c7c7cfb-4f14-4174-b286-8ac1a1415a3d"
      },
      "execution_count": 8,
      "outputs": [
        {
          "output_type": "stream",
          "name": "stdout",
          "text": [
            "2022-03-12\n"
          ]
        }
      ]
    },
    {
      "cell_type": "code",
      "source": [
        "df = pd.read_csv(r'C:\\Users\\trewq\\OneDrive\\Documents\\AmazonWebScraperDataset.csv')\n",
        "df.head()"
      ],
      "metadata": {
        "colab": {
          "base_uri": "https://localhost:8080/",
          "height": 81
        },
        "id": "4FS4shu1_p3x",
        "outputId": "d4597c22-8865-48ec-edaa-320e98d871cd"
      },
      "execution_count": 9,
      "outputs": [
        {
          "output_type": "execute_result",
          "data": {
            "text/plain": [
              "                                               Title  Price Beats Black  \\\n",
              "0  Beats Fit Pro – True Wireless Noise Cancelling...             199.95   \n",
              "\n",
              "   Price Beats White  Price Sage Gray  Price Stone Purple Date Scraped  \n",
              "0             199.95           199.95              199.95   2022-03-12  "
            ],
            "text/html": [
              "\n",
              "  <div id=\"df-c841ff21-8139-434b-85dc-54e318c7c154\">\n",
              "    <div class=\"colab-df-container\">\n",
              "      <div>\n",
              "<style scoped>\n",
              "    .dataframe tbody tr th:only-of-type {\n",
              "        vertical-align: middle;\n",
              "    }\n",
              "\n",
              "    .dataframe tbody tr th {\n",
              "        vertical-align: top;\n",
              "    }\n",
              "\n",
              "    .dataframe thead th {\n",
              "        text-align: right;\n",
              "    }\n",
              "</style>\n",
              "<table border=\"1\" class=\"dataframe\">\n",
              "  <thead>\n",
              "    <tr style=\"text-align: right;\">\n",
              "      <th></th>\n",
              "      <th>Title</th>\n",
              "      <th>Price Beats Black</th>\n",
              "      <th>Price Beats White</th>\n",
              "      <th>Price Sage Gray</th>\n",
              "      <th>Price Stone Purple</th>\n",
              "      <th>Date Scraped</th>\n",
              "    </tr>\n",
              "  </thead>\n",
              "  <tbody>\n",
              "    <tr>\n",
              "      <th>0</th>\n",
              "      <td>Beats Fit Pro – True Wireless Noise Cancelling...</td>\n",
              "      <td>199.95</td>\n",
              "      <td>199.95</td>\n",
              "      <td>199.95</td>\n",
              "      <td>199.95</td>\n",
              "      <td>2022-03-12</td>\n",
              "    </tr>\n",
              "  </tbody>\n",
              "</table>\n",
              "</div>\n",
              "      <button class=\"colab-df-convert\" onclick=\"convertToInteractive('df-c841ff21-8139-434b-85dc-54e318c7c154')\"\n",
              "              title=\"Convert this dataframe to an interactive table.\"\n",
              "              style=\"display:none;\">\n",
              "        \n",
              "  <svg xmlns=\"http://www.w3.org/2000/svg\" height=\"24px\"viewBox=\"0 0 24 24\"\n",
              "       width=\"24px\">\n",
              "    <path d=\"M0 0h24v24H0V0z\" fill=\"none\"/>\n",
              "    <path d=\"M18.56 5.44l.94 2.06.94-2.06 2.06-.94-2.06-.94-.94-2.06-.94 2.06-2.06.94zm-11 1L8.5 8.5l.94-2.06 2.06-.94-2.06-.94L8.5 2.5l-.94 2.06-2.06.94zm10 10l.94 2.06.94-2.06 2.06-.94-2.06-.94-.94-2.06-.94 2.06-2.06.94z\"/><path d=\"M17.41 7.96l-1.37-1.37c-.4-.4-.92-.59-1.43-.59-.52 0-1.04.2-1.43.59L10.3 9.45l-7.72 7.72c-.78.78-.78 2.05 0 2.83L4 21.41c.39.39.9.59 1.41.59.51 0 1.02-.2 1.41-.59l7.78-7.78 2.81-2.81c.8-.78.8-2.07 0-2.86zM5.41 20L4 18.59l7.72-7.72 1.47 1.35L5.41 20z\"/>\n",
              "  </svg>\n",
              "      </button>\n",
              "      \n",
              "  <style>\n",
              "    .colab-df-container {\n",
              "      display:flex;\n",
              "      flex-wrap:wrap;\n",
              "      gap: 12px;\n",
              "    }\n",
              "\n",
              "    .colab-df-convert {\n",
              "      background-color: #E8F0FE;\n",
              "      border: none;\n",
              "      border-radius: 50%;\n",
              "      cursor: pointer;\n",
              "      display: none;\n",
              "      fill: #1967D2;\n",
              "      height: 32px;\n",
              "      padding: 0 0 0 0;\n",
              "      width: 32px;\n",
              "    }\n",
              "\n",
              "    .colab-df-convert:hover {\n",
              "      background-color: #E2EBFA;\n",
              "      box-shadow: 0px 1px 2px rgba(60, 64, 67, 0.3), 0px 1px 3px 1px rgba(60, 64, 67, 0.15);\n",
              "      fill: #174EA6;\n",
              "    }\n",
              "\n",
              "    [theme=dark] .colab-df-convert {\n",
              "      background-color: #3B4455;\n",
              "      fill: #D2E3FC;\n",
              "    }\n",
              "\n",
              "    [theme=dark] .colab-df-convert:hover {\n",
              "      background-color: #434B5C;\n",
              "      box-shadow: 0px 1px 3px 1px rgba(0, 0, 0, 0.15);\n",
              "      filter: drop-shadow(0px 1px 2px rgba(0, 0, 0, 0.3));\n",
              "      fill: #FFFFFF;\n",
              "    }\n",
              "  </style>\n",
              "\n",
              "      <script>\n",
              "        const buttonEl =\n",
              "          document.querySelector('#df-c841ff21-8139-434b-85dc-54e318c7c154 button.colab-df-convert');\n",
              "        buttonEl.style.display =\n",
              "          google.colab.kernel.accessAllowed ? 'block' : 'none';\n",
              "\n",
              "        async function convertToInteractive(key) {\n",
              "          const element = document.querySelector('#df-c841ff21-8139-434b-85dc-54e318c7c154');\n",
              "          const dataTable =\n",
              "            await google.colab.kernel.invokeFunction('convertToInteractive',\n",
              "                                                     [key], {});\n",
              "          if (!dataTable) return;\n",
              "\n",
              "          const docLinkHtml = 'Like what you see? Visit the ' +\n",
              "            '<a target=\"_blank\" href=https://colab.research.google.com/notebooks/data_table.ipynb>data table notebook</a>'\n",
              "            + ' to learn more about interactive tables.';\n",
              "          element.innerHTML = '';\n",
              "          dataTable['output_type'] = 'display_data';\n",
              "          await google.colab.output.renderOutput(dataTable, element);\n",
              "          const docLink = document.createElement('div');\n",
              "          docLink.innerHTML = docLinkHtml;\n",
              "          element.appendChild(docLink);\n",
              "        }\n",
              "      </script>\n",
              "    </div>\n",
              "  </div>\n",
              "  "
            ]
          },
          "metadata": {},
          "execution_count": 9
        }
      ]
    },
    {
      "cell_type": "code",
      "source": [
        "# Function to check price of Amazon product and add to CSV created above\n",
        "\n",
        "def price_check():\n",
        "  url = \"https://www.amazon.com/Beats-Fit-Pro-Cancelling-Built/dp/B09JL41N9C/ref=sr_1_9?crid=HXGFWM1P1X1G&keywords=beats+wireless+headphones&qid=1647021454&s=electronics&sprefix=beats%2Celectronics%2C76&sr=1-9\"\n",
        "\n",
        "  headers = {\"User-Agent\": \"Mozilla/5.0 (Windows NT 10.0; Win64; x64) AppleWebKit/537.36 (KHTML, like Gecko) Chrome/99.0.4844.51 Safari/537.36\", \n",
        "          \"Accept-Encoding\":\"gzip, deflate\", \"Accept\":\"text/html,application/xhtml+xml,application/xml;q=0.9,*/*;q=0.8\", \n",
        "          \"DNT\":\"1\",\"Connection\":\"close\", \"Upgrade-Insecure-Requests\":\"1\"}\n",
        "\n",
        "  page = requests.get(url, headers=headers)\n",
        "\n",
        "  soup1 = BeautifulSoup(page.content, \"html.parser\")\n",
        "\n",
        "  soup2 = BeautifulSoup(soup1.prettify(), \"html.parser\")\n",
        "\n",
        "  title_full = soup2.find(id='productTitle').get_text()\n",
        "\n",
        "  title = title_full[6:60]\n",
        "\n",
        "  price_black = soup2.find(id='color_name_0_price').get_text()\n",
        "\n",
        "  price_white = soup2.find(id='color_name_1_price').get_text()\n",
        "\n",
        "  price_sage_gray = soup2.find(id='color_name_2_price').get_text()\n",
        "\n",
        "  price_stone_purple = soup2.find(id='color_name_3_price').get_text()\n",
        "\n",
        "  # Add scraped data to CSV\n",
        "  data = [title, price_black.strip()[1:], price_white.strip()[1:], \n",
        "        price_sage_gray.strip()[1:], price_stone_purple.strip()[1:], today]\n",
        "\n",
        "  with open(r'C:\\Users\\trewq\\OneDrive\\Documents\\AmazonWebScraperDataset.csv', 'a+', newline='', encoding='UTF8') as f:\n",
        "    writer = csv.writer(f)\n",
        "    writer.writerow(data)\n",
        "\n",
        "  \n"
      ],
      "metadata": {
        "id": "oEXRvuY7iHSO"
      },
      "execution_count": 2,
      "outputs": []
    },
    {
      "cell_type": "code",
      "source": [
        "\"\"\"\n",
        "Runs price_check function according time specifications and updates CSV\n",
        "time.sleep() calculates in seconds, so, to run every 24 hours the time \n",
        "specification is: 60*60*24 (60 seconds/minute, 60 minutes/hour, 24 hours/day)\n",
        "for a total of 86400 seconds per day\n",
        "\"\"\"\n",
        "\n",
        "while(True):\n",
        "    price_check()\n",
        "    time.sleep(86400)\n"
      ],
      "metadata": {
        "colab": {
          "base_uri": "https://localhost:8080/",
          "height": 200
        },
        "id": "SL_6VC8emYD_",
        "outputId": "cc4f233a-6f14-449c-b70d-a52fb0a97a3b"
      },
      "execution_count": 10,
      "outputs": [
        {
          "output_type": "error",
          "ename": "KeyboardInterrupt",
          "evalue": "ignored",
          "traceback": [
            "\u001b[0;31m---------------------------------------------------------------------------\u001b[0m",
            "\u001b[0;31mKeyboardInterrupt\u001b[0m                         Traceback (most recent call last)",
            "\u001b[0;32m<ipython-input-10-ccfe92be4d89>\u001b[0m in \u001b[0;36m<module>\u001b[0;34m()\u001b[0m\n\u001b[1;32m      8\u001b[0m \u001b[0;32mwhile\u001b[0m\u001b[0;34m(\u001b[0m\u001b[0;32mTrue\u001b[0m\u001b[0;34m)\u001b[0m\u001b[0;34m:\u001b[0m\u001b[0;34m\u001b[0m\u001b[0;34m\u001b[0m\u001b[0m\n\u001b[1;32m      9\u001b[0m     \u001b[0mprice_check\u001b[0m\u001b[0;34m(\u001b[0m\u001b[0;34m)\u001b[0m\u001b[0;34m\u001b[0m\u001b[0;34m\u001b[0m\u001b[0m\n\u001b[0;32m---> 10\u001b[0;31m     \u001b[0mtime\u001b[0m\u001b[0;34m.\u001b[0m\u001b[0msleep\u001b[0m\u001b[0;34m(\u001b[0m\u001b[0;36m86400\u001b[0m\u001b[0;34m)\u001b[0m\u001b[0;34m\u001b[0m\u001b[0;34m\u001b[0m\u001b[0m\n\u001b[0m",
            "\u001b[0;31mKeyboardInterrupt\u001b[0m: "
          ]
        }
      ]
    },
    {
      "cell_type": "code",
      "source": [
        "\"\"\"\n",
        "Verifiy that CSV is populating correctly. Used time.sleep(5) to test. \n",
        "\"\"\"\n",
        "\n",
        "df = pd.read_csv(r'C:\\Users\\trewq\\OneDrive\\Documents\\AmazonWebScraperDataset.csv')\n",
        "df.head()"
      ],
      "metadata": {
        "colab": {
          "base_uri": "https://localhost:8080/",
          "height": 112
        },
        "id": "3hjuFmqBiHUq",
        "outputId": "91abeedc-f1cc-47f5-a64f-2a3f9272ae7f"
      },
      "execution_count": 11,
      "outputs": [
        {
          "output_type": "execute_result",
          "data": {
            "text/plain": [
              "                                               Title  Price Beats Black  \\\n",
              "0  Beats Fit Pro – True Wireless Noise Cancelling...             199.95   \n",
              "1  Beats Fit Pro – True Wireless Noise Cancelling...             199.95   \n",
              "\n",
              "   Price Beats White  Price Sage Gray  Price Stone Purple Date Scraped  \n",
              "0             199.95           199.95              199.95   2022-03-12  \n",
              "1             199.95           199.95              199.95   2022-03-12  "
            ],
            "text/html": [
              "\n",
              "  <div id=\"df-4cb51eb7-e60b-40ac-a3da-e2d4efe563a9\">\n",
              "    <div class=\"colab-df-container\">\n",
              "      <div>\n",
              "<style scoped>\n",
              "    .dataframe tbody tr th:only-of-type {\n",
              "        vertical-align: middle;\n",
              "    }\n",
              "\n",
              "    .dataframe tbody tr th {\n",
              "        vertical-align: top;\n",
              "    }\n",
              "\n",
              "    .dataframe thead th {\n",
              "        text-align: right;\n",
              "    }\n",
              "</style>\n",
              "<table border=\"1\" class=\"dataframe\">\n",
              "  <thead>\n",
              "    <tr style=\"text-align: right;\">\n",
              "      <th></th>\n",
              "      <th>Title</th>\n",
              "      <th>Price Beats Black</th>\n",
              "      <th>Price Beats White</th>\n",
              "      <th>Price Sage Gray</th>\n",
              "      <th>Price Stone Purple</th>\n",
              "      <th>Date Scraped</th>\n",
              "    </tr>\n",
              "  </thead>\n",
              "  <tbody>\n",
              "    <tr>\n",
              "      <th>0</th>\n",
              "      <td>Beats Fit Pro – True Wireless Noise Cancelling...</td>\n",
              "      <td>199.95</td>\n",
              "      <td>199.95</td>\n",
              "      <td>199.95</td>\n",
              "      <td>199.95</td>\n",
              "      <td>2022-03-12</td>\n",
              "    </tr>\n",
              "    <tr>\n",
              "      <th>1</th>\n",
              "      <td>Beats Fit Pro – True Wireless Noise Cancelling...</td>\n",
              "      <td>199.95</td>\n",
              "      <td>199.95</td>\n",
              "      <td>199.95</td>\n",
              "      <td>199.95</td>\n",
              "      <td>2022-03-12</td>\n",
              "    </tr>\n",
              "  </tbody>\n",
              "</table>\n",
              "</div>\n",
              "      <button class=\"colab-df-convert\" onclick=\"convertToInteractive('df-4cb51eb7-e60b-40ac-a3da-e2d4efe563a9')\"\n",
              "              title=\"Convert this dataframe to an interactive table.\"\n",
              "              style=\"display:none;\">\n",
              "        \n",
              "  <svg xmlns=\"http://www.w3.org/2000/svg\" height=\"24px\"viewBox=\"0 0 24 24\"\n",
              "       width=\"24px\">\n",
              "    <path d=\"M0 0h24v24H0V0z\" fill=\"none\"/>\n",
              "    <path d=\"M18.56 5.44l.94 2.06.94-2.06 2.06-.94-2.06-.94-.94-2.06-.94 2.06-2.06.94zm-11 1L8.5 8.5l.94-2.06 2.06-.94-2.06-.94L8.5 2.5l-.94 2.06-2.06.94zm10 10l.94 2.06.94-2.06 2.06-.94-2.06-.94-.94-2.06-.94 2.06-2.06.94z\"/><path d=\"M17.41 7.96l-1.37-1.37c-.4-.4-.92-.59-1.43-.59-.52 0-1.04.2-1.43.59L10.3 9.45l-7.72 7.72c-.78.78-.78 2.05 0 2.83L4 21.41c.39.39.9.59 1.41.59.51 0 1.02-.2 1.41-.59l7.78-7.78 2.81-2.81c.8-.78.8-2.07 0-2.86zM5.41 20L4 18.59l7.72-7.72 1.47 1.35L5.41 20z\"/>\n",
              "  </svg>\n",
              "      </button>\n",
              "      \n",
              "  <style>\n",
              "    .colab-df-container {\n",
              "      display:flex;\n",
              "      flex-wrap:wrap;\n",
              "      gap: 12px;\n",
              "    }\n",
              "\n",
              "    .colab-df-convert {\n",
              "      background-color: #E8F0FE;\n",
              "      border: none;\n",
              "      border-radius: 50%;\n",
              "      cursor: pointer;\n",
              "      display: none;\n",
              "      fill: #1967D2;\n",
              "      height: 32px;\n",
              "      padding: 0 0 0 0;\n",
              "      width: 32px;\n",
              "    }\n",
              "\n",
              "    .colab-df-convert:hover {\n",
              "      background-color: #E2EBFA;\n",
              "      box-shadow: 0px 1px 2px rgba(60, 64, 67, 0.3), 0px 1px 3px 1px rgba(60, 64, 67, 0.15);\n",
              "      fill: #174EA6;\n",
              "    }\n",
              "\n",
              "    [theme=dark] .colab-df-convert {\n",
              "      background-color: #3B4455;\n",
              "      fill: #D2E3FC;\n",
              "    }\n",
              "\n",
              "    [theme=dark] .colab-df-convert:hover {\n",
              "      background-color: #434B5C;\n",
              "      box-shadow: 0px 1px 3px 1px rgba(0, 0, 0, 0.15);\n",
              "      filter: drop-shadow(0px 1px 2px rgba(0, 0, 0, 0.3));\n",
              "      fill: #FFFFFF;\n",
              "    }\n",
              "  </style>\n",
              "\n",
              "      <script>\n",
              "        const buttonEl =\n",
              "          document.querySelector('#df-4cb51eb7-e60b-40ac-a3da-e2d4efe563a9 button.colab-df-convert');\n",
              "        buttonEl.style.display =\n",
              "          google.colab.kernel.accessAllowed ? 'block' : 'none';\n",
              "\n",
              "        async function convertToInteractive(key) {\n",
              "          const element = document.querySelector('#df-4cb51eb7-e60b-40ac-a3da-e2d4efe563a9');\n",
              "          const dataTable =\n",
              "            await google.colab.kernel.invokeFunction('convertToInteractive',\n",
              "                                                     [key], {});\n",
              "          if (!dataTable) return;\n",
              "\n",
              "          const docLinkHtml = 'Like what you see? Visit the ' +\n",
              "            '<a target=\"_blank\" href=https://colab.research.google.com/notebooks/data_table.ipynb>data table notebook</a>'\n",
              "            + ' to learn more about interactive tables.';\n",
              "          element.innerHTML = '';\n",
              "          dataTable['output_type'] = 'display_data';\n",
              "          await google.colab.output.renderOutput(dataTable, element);\n",
              "          const docLink = document.createElement('div');\n",
              "          docLink.innerHTML = docLinkHtml;\n",
              "          element.appendChild(docLink);\n",
              "        }\n",
              "      </script>\n",
              "    </div>\n",
              "  </div>\n",
              "  "
            ]
          },
          "metadata": {},
          "execution_count": 11
        }
      ]
    },
    {
      "cell_type": "code",
      "source": [
        "user = \"trevor.dewalt@gmail.com\"\n",
        "password = \"XXXXXXXXXXX\""
      ],
      "metadata": {
        "id": "PGWBZ7qEqVFD"
      },
      "execution_count": 172,
      "outputs": []
    },
    {
      "cell_type": "code",
      "source": [
        "\"\"\"\n",
        "Send yourself an email when price hits below a specified level \n",
        "This method uses SMTP protocol -- you will most likely need to \n",
        "give authorization (access) to less secure apps for this to run correctly.\n",
        "This will no longer be possible with Gmail after May 30, 2022\n",
        "\"\"\"\n",
        "\n",
        "subject = \"Beats by Dre be droppin\"\n",
        "body = \"Beats by Dre EarBuds price has dropped- Check it out here: https://www.amazon.com/Beats-Fit-Pro-Cancelling-Built/dp/B09JL41N9C/ref=sr_1_9?crid=HXGFWM1P1X1G&keywords=beats+wireless+headphones&qid=1647021454&s=electronics&sprefix=beats%2Celectronics%2C76&sr=1-9\"\n",
        "msg = f\"Subject: {subject}\\n\\n{body}\"\n",
        "\n",
        "def send_mail():\n",
        "  try: \n",
        "    #Create your SMTP session \n",
        "    smtp = smtplib.SMTP('smtp.gmail.com', 587) \n",
        "\n",
        "    #Use TLS to add security \n",
        "    smtp.starttls() \n",
        "\n",
        "    #User Authentication \n",
        "    smtp.login(user,password)\n",
        "\n",
        "    #Sending the Email\n",
        "    smtp.sendmail(user, user, msg) \n",
        "\n",
        "    #Terminating the session \n",
        "    smtp.quit() \n",
        "    print (\"Email sent successfully!\") \n",
        "\n",
        "  except Exception as ex: \n",
        "    print(\"Something went wrong....\",ex)\n"
      ],
      "metadata": {
        "id": "zR5PgGalsF1m"
      },
      "execution_count": 162,
      "outputs": []
    },
    {
      "cell_type": "code",
      "source": [
        "\"\"\"\n",
        "Send yourself an email when price hits below a specified level \n",
        "This method uses SMTP_SSL -- you will most likely need to \n",
        "give authorization (access) to less secure apps for this to run correctly.\n",
        "This will no longer be possible with Gmail after May 30, 2022\n",
        "\"\"\"\n",
        "\n",
        "subject = \"Beats by Dre be droppin\"\n",
        "body = \"Beats by Dre EarBuds price has dropped- Check it out here: https://www.amazon.com/Beats-Fit-Pro-Cancelling-Built/dp/B09JL41N9C/ref=sr_1_9?crid=HXGFWM1P1X1G&keywords=beats+wireless+headphones&qid=1647021454&s=electronics&sprefix=beats%2Celectronics%2C76&sr=1-9\"\n",
        "msg = f\"Subject: {subject}\\n\\n{body}\"\n",
        "\n",
        "def send_mail():\n",
        "  try:\n",
        "    smtp_server = smtplib.SMTP_SSL('smtp.gmail.com', 465)\n",
        "    smtp_server.ehlo()\n",
        "    smtp_server.login(user, password)\n",
        "    smtp_server.sendmail(user, user, msg)\n",
        "    smtp_server.close()\n",
        "    print (\"Email sent successfully!\")\n",
        "  except Exception as ex:\n",
        "    print (\"Something went wrong….\",ex)\n",
        "\n"
      ],
      "metadata": {
        "id": "5uFMxI9nqVH2"
      },
      "execution_count": 170,
      "outputs": []
    },
    {
      "cell_type": "code",
      "source": [
        "send_mail()"
      ],
      "metadata": {
        "colab": {
          "base_uri": "https://localhost:8080/"
        },
        "id": "8bPA9Vm9qVKe",
        "outputId": "cafaef28-856d-40df-b8d2-7ce73e3413b9"
      },
      "execution_count": 171,
      "outputs": [
        {
          "output_type": "stream",
          "name": "stdout",
          "text": [
            "Email sent successfully!\n"
          ]
        }
      ]
    }
  ]
}